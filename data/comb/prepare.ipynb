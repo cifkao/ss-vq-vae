{
 "cells": [
  {
   "cell_type": "markdown",
   "metadata": {},
   "source": [
    "# Combined training data preparation\n",
    "\n",
    "This notebook combines the two training datasets (LMD and RT). Run `../lmd/audio_train/prepare.ipynb` and `../rt/prepare.ipynb` first.\n",
    "\n",
    "The code creates `pairs_train`, `pairs_val` and `pairs_test` files listing pairs of audio file paths. Note that `pairs_test` is not used in the paper.\n",
    "\n",
    "Copyright 2020 InterDigital R&D and Télécom Paris.  \n",
    "Author: Ondřej Cífka"
   ]
  },
  {
   "cell_type": "code",
   "execution_count": 1,
   "metadata": {},
   "outputs": [],
   "source": [
    "import os\n",
    "import random"
   ]
  },
  {
   "cell_type": "code",
   "execution_count": 2,
   "metadata": {},
   "outputs": [],
   "source": [
    "DATA_DIRS = ['../lmd/audio_train', '../rt']"
   ]
  },
  {
   "cell_type": "code",
   "execution_count": 3,
   "metadata": {},
   "outputs": [],
   "source": [
    "random.seed(42)\n",
    "\n",
    "for filename in ['pairs_train', 'pairs_val', 'pairs_test']:\n",
    "    lines = []\n",
    "    for dir_path in DATA_DIRS:\n",
    "        with open(os.path.join(dir_path, filename)) as f_in:\n",
    "            for line in f_in:\n",
    "                lines.append([os.path.join(dir_path, x) for x in line.rstrip('\\n').split('\\t')])\n",
    "    random.shuffle(lines)\n",
    "    \n",
    "    with open(filename, 'w') as f_out:\n",
    "        for line in lines:\n",
    "            print(*line, sep='\\t', file=f_out)"
   ]
  },
  {
   "cell_type": "code",
   "execution_count": 5,
   "metadata": {},
   "outputs": [
    {
     "name": "stdout",
     "output_type": "stream",
     "text": [
      "    2113 pairs_test\n",
      "  208672 pairs_train\n",
      "    1072 pairs_val\n",
      "  211857 total\n"
     ]
    }
   ],
   "source": [
    "!wc -l pairs_*"
   ]
  },
  {
   "cell_type": "code",
   "execution_count": null,
   "metadata": {},
   "outputs": [],
   "source": []
  }
 ],
 "metadata": {
  "kernelspec": {
   "display_name": "Python 3 (ipykernel)",
   "language": "python",
   "name": "python3"
  },
  "language_info": {
   "codemirror_mode": {
    "name": "ipython",
    "version": 3
   },
   "file_extension": ".py",
   "mimetype": "text/x-python",
   "name": "python",
   "nbconvert_exporter": "python",
   "pygments_lexer": "ipython3",
   "version": "3.10.4"
  }
 },
 "nbformat": 4,
 "nbformat_minor": 4
}
